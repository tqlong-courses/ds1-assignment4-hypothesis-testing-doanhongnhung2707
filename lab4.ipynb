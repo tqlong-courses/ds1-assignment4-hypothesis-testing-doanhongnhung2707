def get_list_of_university_towns():
    data = []
    State = None
    State_RegionNames = []
    with open('university_towns.txt') as file:
        for line in file:
            thisLine = line[:-1]
            if thisLine[-6:] == '[edit]':
                State = thisLine[:-6]
                continue
            if '(' in line:
                RegionName = thisLine[:thisLine.index('(')-1]
                State_RegionNames.append([State,RegionName])
            else:
                RegionName = thisLine
                State_RegionNames.append([State,RegionName])
            data.append(thisLine)
    df = pd.DataFrame(State_RegionNames,columns = ['State','RegionName'])
    return df
get_list_of_university_towns()


import pandas as pd
def get_recession_start():
    quarter = pd.read_excel('gdplev.xls', skiprows=219)
    quarter = quarter[['1999q4', 9926.1]]
    quarter.columns = ['Quarter','GDP']
    for i in range(2, len(quarter)):
        if (quarter.iloc[i-2][1] - quarter.iloc[i-1][1])>0 and (quarter.iloc[i-1][1] - quarter.iloc[i][1])>0:
            return quarter.iloc[i-2][0]

get_recession_start()

def get_recession_end():
    quarter = pd.read_excel('gdplev.xls', skiprows=219)
    quarter = quarter[['1999q4', 9926.1]]
    quarter.columns = ['Quarter','GDP']
    recession_start = get_recession_start()
    recession_start_index = quarter[quarter['Quarter'] == recession_start].index.tolist()[0]
    quarter=quarter.iloc[recession_start_index:]

    for i in range(2, len(quarter)):
        if (quarter.iloc[i-2][1] - quarter.iloc[i-1][1])<0 and (quarter.iloc[i-1][1] - quarter.iloc[i][1])<0:
            return quarter.iloc[i][0]
get_recession_end()


def new_col_names():
    years = list(range(2000,2017))
    quars = ['q1','q2','q3','q4']
    quar_years = []
    for i in years:
        for x in quars:
            quar_years.append((str(i)+x))
    return quar_years[:67]
new_col_names()


def convert_housing_data_to_quarters():
    data = pd.read_csv('City_Zhvi_AllHomes.csv')
    data.drop(columns=['Metro','CountyName','RegionID','SizeRank'],axis=1,inplace=True)
    data['State'] = data['State'].map(states)
    data.set_index(['State','RegionName'],inplace=True)
    col = list(data.columns)
    col = col[0:45]
    data.drop(col,axis=1,inplace=True)

    #qs is the quarters of the year
    qs = [list(data.columns)[x:x+3] for x in range(0, len(list(data.columns)), 3)]
    
    # new columns
    column_names = new_col_names()
    for col,q in zip(column_names,qs):
        data[col] = data[q].mean(axis=1)
        
    data = data[column_names]
    return data
convert_housing_data_to_quarters()


def run_ttest():

    data = convert_housing_data_to_quarters().copy()
    data = data.loc[:,'2008q3':'2009q2']
    data = data.reset_index()
    def price_ratio(row):
        return (row['2008q3'] - row['2009q2'])/row['2008q3']
    
    data['up&down'] = data.apply(price_ratio,axis=1) 
    
    uni_town = get_list_of_university_towns()['RegionName']
    uni_town = set(uni_town)

    def is_uni_town(row):
        if row['RegionName'] in uni_town:
            return 1
        else:
            return 0
    data['is_uni'] = data.apply(is_uni_town,axis=1)
    
    
    not_uni = data[data['is_uni']==0].loc[:,'up&down'].dropna()
    is_uni  = data[data['is_uni']==1].loc[:,'up&down'].dropna()
    def better():
        if not_uni.mean() < is_uni.mean():
            return 'non-university town'
        else:
            return 'university town'
    p_val = list(ttest_ind(not_uni, is_uni))[1]
    result = (True,p_val,better())
    return result




